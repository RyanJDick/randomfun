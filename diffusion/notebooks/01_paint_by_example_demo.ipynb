{
 "cells": [
  {
   "cell_type": "code",
   "execution_count": null,
   "id": "7e890217",
   "metadata": {},
   "outputs": [],
   "source": [
    "import PIL\n",
    "import requests\n",
    "import torch\n",
    "from io import BytesIO\n",
    "from diffusers import DiffusionPipeline\n",
    "import matplotlib.pyplot as plt\n",
    "\n",
    "def download_image(url):\n",
    "    response = requests.get(url)\n",
    "    return PIL.Image.open(BytesIO(response.content)).convert(\"RGB\")\n",
    "\n",
    "\n",
    "img_url = \"https://raw.githubusercontent.com/Fantasy-Studio/Paint-by-Example/main/examples/image/example_1.png\"\n",
    "mask_url = \"https://raw.githubusercontent.com/Fantasy-Studio/Paint-by-Example/main/examples/mask/example_1.png\"\n",
    "example_url = \"https://raw.githubusercontent.com/Fantasy-Studio/Paint-by-Example/main/examples/reference/example_1.jpg\"\n",
    "\n",
    "init_image = download_image(img_url).resize((512, 512))\n",
    "mask_image = download_image(mask_url).resize((512, 512))\n",
    "example_image = download_image(example_url).resize((512, 512))"
   ]
  },
  {
   "cell_type": "code",
   "execution_count": null,
   "id": "ca4268ec",
   "metadata": {},
   "outputs": [],
   "source": [
    "init_image"
   ]
  },
  {
   "cell_type": "code",
   "execution_count": null,
   "id": "382e9e10",
   "metadata": {},
   "outputs": [],
   "source": [
    "mask_image"
   ]
  },
  {
   "cell_type": "code",
   "execution_count": null,
   "id": "93149b33",
   "metadata": {},
   "outputs": [],
   "source": [
    "example_image"
   ]
  },
  {
   "cell_type": "code",
   "execution_count": null,
   "id": "e05d5d12",
   "metadata": {},
   "outputs": [],
   "source": [
    "pipe = DiffusionPipeline.from_pretrained(\n",
    "    \"Fantasy-Studio/Paint-by-Example\",\n",
    "    torch_dtype=torch.float16,\n",
    ")\n",
    "pipe = pipe.to(\"cuda\")\n",
    "\n"
   ]
  },
  {
   "cell_type": "code",
   "execution_count": null,
   "id": "b0cd9877",
   "metadata": {},
   "outputs": [],
   "source": [
    "for i in range(10):\n",
    "    image = pipe(image=init_image, mask_image=mask_image, example_image=example_image).images[0]\n",
    "    plt.imshow(image)\n",
    "    plt.show()"
   ]
  },
  {
   "cell_type": "code",
   "execution_count": null,
   "id": "49cc9ba8",
   "metadata": {},
   "outputs": [],
   "source": []
  }
 ],
 "metadata": {
  "kernelspec": {
   "display_name": "Python 3 (ipykernel)",
   "language": "python",
   "name": "python3"
  },
  "language_info": {
   "codemirror_mode": {
    "name": "ipython",
    "version": 3
   },
   "file_extension": ".py",
   "mimetype": "text/x-python",
   "name": "python",
   "nbconvert_exporter": "python",
   "pygments_lexer": "ipython3",
   "version": "3.8.6"
  }
 },
 "nbformat": 4,
 "nbformat_minor": 5
}
