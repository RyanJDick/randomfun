{
 "cells": [
  {
   "cell_type": "code",
   "execution_count": null,
   "id": "53ad2b13",
   "metadata": {},
   "outputs": [],
   "source": [
    "import torch\n",
    "from diffusers import StableDiffusionPipeline, DPMSolverMultistepScheduler, AutoencoderKL"
   ]
  },
  {
   "cell_type": "code",
   "execution_count": null,
   "id": "2ac3f21c",
   "metadata": {},
   "outputs": [],
   "source": [
    "# model_base should match the base image used during training.\n",
    "model_base = \"runwayml/stable-diffusion-v1-5\"\n",
    "#model_lora = \"finetune/lora/living_room/checkpoint-500/pytorch_model.bin\"\n",
    "#model_lora = \"finetune/lora/living_room/20230604-110114/checkpoint-15000/pytorch_model.bin\"\n",
    "model_lora = \"finetune/lora/living_room/20230604-162709/checkpoint-15000/pytorch_model.bin\"\n",
    "model_vae = \"stabilityai/sd-vae-ft-mse\""
   ]
  },
  {
   "cell_type": "code",
   "execution_count": null,
   "id": "7c5d5b94",
   "metadata": {},
   "outputs": [],
   "source": [
    "# Load base model.\n",
    "vae = AutoencoderKL.from_pretrained(\n",
    "    model_vae,\n",
    "    torch_dtype=torch.float16\n",
    ")\n",
    "pipe = StableDiffusionPipeline.from_pretrained(\n",
    "    model_base,\n",
    "    vae=vae,\n",
    "    torch_dtype=torch.float16,\n",
    "    safety_checker=None,\n",
    ")\n",
    "pipe.scheduler = DPMSolverMultistepScheduler.from_config(pipe.scheduler.config)"
   ]
  },
  {
   "cell_type": "code",
   "execution_count": null,
   "id": "b90b086a",
   "metadata": {},
   "outputs": [],
   "source": [
    "# Load LoRA weights.\n",
    "pipe.unet.load_attn_procs(model_lora)\n",
    "pipe.to(\"cuda\")"
   ]
  },
  {
   "cell_type": "markdown",
   "id": "bcf0fc6f",
   "metadata": {},
   "source": [
    "# Base vs. LoRA weighting\n",
    "\n",
    "The `scale` parameter controls the relative weighting of the base model vs. LoRA weights.\n",
    "\n",
    "- `scale=0` means use only the base model weights.\n",
    "- `scale=1` means use only the LoRA model weights."
   ]
  },
  {
   "cell_type": "code",
   "execution_count": null,
   "id": "6a1d19dc",
   "metadata": {},
   "outputs": [],
   "source": [
    "prompt = \"interior design, living room, modern clean no clutter, high res, 4k\"\n",
    "seed = 5"
   ]
  },
  {
   "cell_type": "markdown",
   "id": "a791ad43",
   "metadata": {},
   "source": [
    "## scale=0: Base model only"
   ]
  },
  {
   "cell_type": "code",
   "execution_count": null,
   "id": "e6878815",
   "metadata": {},
   "outputs": [],
   "source": [
    "generator = torch.Generator(device=\"cuda\").manual_seed(seed)\n",
    "image = pipe(\n",
    "    prompt,\n",
    "    num_inference_steps=25,\n",
    "    guidance_scale=7.5,\n",
    "    cross_attention_kwargs={\"scale\": 0},\n",
    "    generator=generator,\n",
    ").images[0]\n",
    "image"
   ]
  },
  {
   "cell_type": "markdown",
   "id": "0043a12f",
   "metadata": {},
   "source": [
    "## scale=0.5: 50/50 base model and LoRA"
   ]
  },
  {
   "cell_type": "code",
   "execution_count": null,
   "id": "201da270",
   "metadata": {},
   "outputs": [],
   "source": [
    "generator = torch.Generator(device=\"cuda\").manual_seed(seed)\n",
    "image = pipe(\n",
    "    prompt,\n",
    "    num_inference_steps=25,\n",
    "    guidance_scale=7.5,\n",
    "    cross_attention_kwargs={\"scale\": 0.5},\n",
    "    generator=generator,\n",
    ").images[0]\n",
    "image"
   ]
  },
  {
   "cell_type": "markdown",
   "id": "17ea88de",
   "metadata": {},
   "source": [
    "## scale=0.8 Mostly LoRA"
   ]
  },
  {
   "cell_type": "code",
   "execution_count": null,
   "id": "7e9585e1",
   "metadata": {},
   "outputs": [],
   "source": [
    "generator = torch.Generator(device=\"cuda\").manual_seed(seed)\n",
    "image = pipe(\n",
    "    prompt,\n",
    "    num_inference_steps=25,\n",
    "    guidance_scale=7.5,\n",
    "    cross_attention_kwargs={\"scale\": 0.8},\n",
    "    generator=generator,\n",
    ").images[0]\n",
    "image"
   ]
  },
  {
   "cell_type": "code",
   "execution_count": null,
   "id": "ffdbb97b",
   "metadata": {},
   "outputs": [],
   "source": []
  }
 ],
 "metadata": {
  "kernelspec": {
   "display_name": "Python 3 (ipykernel)",
   "language": "python",
   "name": "python3"
  },
  "language_info": {
   "codemirror_mode": {
    "name": "ipython",
    "version": 3
   },
   "file_extension": ".py",
   "mimetype": "text/x-python",
   "name": "python",
   "nbconvert_exporter": "python",
   "pygments_lexer": "ipython3",
   "version": "3.8.6"
  }
 },
 "nbformat": 4,
 "nbformat_minor": 5
}
