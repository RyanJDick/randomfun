{
 "cells": [
  {
   "cell_type": "code",
   "execution_count": null,
   "id": "bb7c224f",
   "metadata": {},
   "outputs": [],
   "source": [
    "import torch\n",
    "from diffusers import StableDiffusionPipeline, UNet2DConditionModel"
   ]
  },
  {
   "cell_type": "code",
   "execution_count": null,
   "id": "7a21fcfd",
   "metadata": {},
   "outputs": [],
   "source": [
    "model_id = \"CompVis/stable-diffusion-v1-4\"\n",
    "\n",
    "unet = UNet2DConditionModel.from_pretrained(\"/home/ryan/Downloads/20230614-205029/checkpoint-1000/unet_ema\")\n",
    "\n",
    "# if you have trained with `--args.train_text_encoder` make sure to also load the text encoder\n",
    "#text_encoder = CLIPTextModel.from_pretrained(\"/sddata/dreambooth/daruma-v2-1/checkpoint-100/text_encoder\")\n",
    "\n",
    "pipe = StableDiffusionPipeline.from_pretrained(\n",
    "    model_id,\n",
    "    unet=unet,\n",
    "    safety_checker=None,\n",
    "    dtype=torch.float16\n",
    ")\n",
    "pipe.to(\"cuda\")"
   ]
  },
  {
   "cell_type": "code",
   "execution_count": null,
   "id": "963db0df",
   "metadata": {},
   "outputs": [],
   "source": [
    "prompt = \"interior design, living room, brown leather couch, high res, 4k\"\n",
    "#prompt = \"man riding a horse\"\n",
    "seed = 6\n"
   ]
  },
  {
   "cell_type": "code",
   "execution_count": null,
   "id": "a1caf30a",
   "metadata": {},
   "outputs": [],
   "source": [
    "generator = torch.Generator(device=\"cuda\").manual_seed(seed)\n",
    "\n",
    "image = pipe(\n",
    "    prompt=prompt,\n",
    "    generator=generator,\n",
    "    num_inference_steps=50,\n",
    ").images[0]\n",
    "image"
   ]
  },
  {
   "cell_type": "code",
   "execution_count": null,
   "id": "be094530",
   "metadata": {},
   "outputs": [],
   "source": []
  }
 ],
 "metadata": {
  "kernelspec": {
   "display_name": "Python 3 (ipykernel)",
   "language": "python",
   "name": "python3"
  },
  "language_info": {
   "codemirror_mode": {
    "name": "ipython",
    "version": 3
   },
   "file_extension": ".py",
   "mimetype": "text/x-python",
   "name": "python",
   "nbconvert_exporter": "python",
   "pygments_lexer": "ipython3",
   "version": "3.8.6"
  }
 },
 "nbformat": 4,
 "nbformat_minor": 5
}
