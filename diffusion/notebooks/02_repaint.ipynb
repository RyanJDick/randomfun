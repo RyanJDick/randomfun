{
 "cells": [
  {
   "cell_type": "code",
   "execution_count": null,
   "id": "3d792aa6",
   "metadata": {},
   "outputs": [],
   "source": [
    "from io import BytesIO\n",
    "\n",
    "import torch\n",
    "\n",
    "import PIL\n",
    "import requests\n",
    "from diffusers import RePaintPipeline, RePaintScheduler\n",
    "\n",
    "\n",
    "def download_image(url):\n",
    "    response = requests.get(url)\n",
    "    return PIL.Image.open(BytesIO(response.content)).convert(\"RGB\")\n",
    "\n",
    "\n",
    "img_url = \"https://huggingface.co/datasets/hf-internal-testing/diffusers-images/resolve/main/repaint/celeba_hq_256.png\"\n",
    "mask_url = \"https://huggingface.co/datasets/hf-internal-testing/diffusers-images/resolve/main/repaint/mask_256.png\"\n",
    "\n",
    "# Load the original image and the mask as PIL images\n",
    "original_image = download_image(img_url).resize((256, 256))\n",
    "mask_image = download_image(mask_url).resize((256, 256))\n",
    "\n"
   ]
  },
  {
   "cell_type": "code",
   "execution_count": null,
   "id": "fc0d31f6",
   "metadata": {},
   "outputs": [],
   "source": [
    "original_image"
   ]
  },
  {
   "cell_type": "code",
   "execution_count": null,
   "id": "5ee13d43",
   "metadata": {},
   "outputs": [],
   "source": [
    "mask_image"
   ]
  },
  {
   "cell_type": "code",
   "execution_count": null,
   "id": "56cff868",
   "metadata": {},
   "outputs": [],
   "source": [
    "# Load the RePaint scheduler and pipeline based on a pretrained DDPM model\n",
    "scheduler = RePaintScheduler.from_pretrained(\"google/ddpm-ema-celebahq-256\")\n",
    "pipe = RePaintPipeline.from_pretrained(\n",
    "    \"google/ddpm-ema-celebahq-256\",\n",
    "    scheduler=scheduler,\n",
    "    torch_dtype=torch.float16,\n",
    ")\n",
    "pipe = pipe.to(\"cuda\")\n",
    "\n"
   ]
  },
  {
   "cell_type": "code",
   "execution_count": null,
   "id": "78b5b6f3",
   "metadata": {},
   "outputs": [],
   "source": []
  },
  {
   "cell_type": "code",
   "execution_count": null,
   "id": "b88817b8",
   "metadata": {},
   "outputs": [],
   "source": [
    "generator = torch.Generator(device=\"cuda\").manual_seed(0)\n",
    "output = pipe(\n",
    "    image=original_image,\n",
    "    mask_image=mask_image,\n",
    "    num_inference_steps=250,\n",
    "    eta=0.0,\n",
    "    jump_length=10,\n",
    "    jump_n_sample=10,\n",
    "    generator=generator,\n",
    ")\n",
    "inpainted_image = output.images[0]"
   ]
  },
  {
   "cell_type": "code",
   "execution_count": null,
   "id": "471d5ac1",
   "metadata": {},
   "outputs": [],
   "source": [
    "inpainted_image"
   ]
  },
  {
   "cell_type": "code",
   "execution_count": null,
   "id": "5caafb0d",
   "metadata": {},
   "outputs": [],
   "source": []
  }
 ],
 "metadata": {
  "kernelspec": {
   "display_name": "Python 3 (ipykernel)",
   "language": "python",
   "name": "python3"
  },
  "language_info": {
   "codemirror_mode": {
    "name": "ipython",
    "version": 3
   },
   "file_extension": ".py",
   "mimetype": "text/x-python",
   "name": "python",
   "nbconvert_exporter": "python",
   "pygments_lexer": "ipython3",
   "version": "3.8.6"
  }
 },
 "nbformat": 4,
 "nbformat_minor": 5
}
