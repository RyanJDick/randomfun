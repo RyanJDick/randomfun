{
 "cells": [
  {
   "cell_type": "code",
   "execution_count": null,
   "id": "c83597d7",
   "metadata": {},
   "outputs": [],
   "source": [
    "# This notebook tests out the suggestions here:\n",
    "# https://huggingface.co/docs/diffusers/stable_diffusion#effective-and-efficient-diffusion"
   ]
  },
  {
   "cell_type": "code",
   "execution_count": null,
   "id": "838791ab",
   "metadata": {},
   "outputs": [],
   "source": [
    "import torch\n",
    "\n",
    "from diffusers import DiffusionPipeline\n",
    "\n",
    "model_id = \"runwayml/stable-diffusion-v1-5\"\n",
    "pipeline = DiffusionPipeline.from_pretrained(\n",
    "    model_id,\n",
    "    local_files_only=True,\n",
    "    torch_dtype=torch.float16,\n",
    "    safety_checker=None,\n",
    ")"
   ]
  },
  {
   "cell_type": "code",
   "execution_count": null,
   "id": "1015d9c8",
   "metadata": {},
   "outputs": [],
   "source": [
    "prompt = \"portrait photo of a old warrior chief\""
   ]
  },
  {
   "cell_type": "code",
   "execution_count": null,
   "id": "d4d00133",
   "metadata": {},
   "outputs": [],
   "source": [
    "generator = torch.Generator(\"cuda\").manual_seed(0)\n",
    "pipeline = pipeline.to(\"cuda\")\n"
   ]
  },
  {
   "cell_type": "code",
   "execution_count": null,
   "id": "2a336c03",
   "metadata": {},
   "outputs": [],
   "source": [
    "from diffusers import DPMSolverMultistepScheduler\n",
    "\n",
    "# This scheduler allows us to reduce the num_inference_steps from ~50 to ~25.\n",
    "pipeline.scheduler = DPMSolverMultistepScheduler.from_config(pipeline.scheduler.config)"
   ]
  },
  {
   "cell_type": "code",
   "execution_count": null,
   "id": "aded74de",
   "metadata": {},
   "outputs": [],
   "source": [
    "image = pipeline(prompt, num_inference_steps=20, generator=generator).images[0]"
   ]
  },
  {
   "cell_type": "code",
   "execution_count": null,
   "id": "36339837",
   "metadata": {},
   "outputs": [],
   "source": [
    "image"
   ]
  },
  {
   "cell_type": "code",
   "execution_count": null,
   "id": "77bf68e1",
   "metadata": {},
   "outputs": [],
   "source": []
  }
 ],
 "metadata": {
  "kernelspec": {
   "display_name": "Python 3 (ipykernel)",
   "language": "python",
   "name": "python3"
  },
  "language_info": {
   "codemirror_mode": {
    "name": "ipython",
    "version": 3
   },
   "file_extension": ".py",
   "mimetype": "text/x-python",
   "name": "python",
   "nbconvert_exporter": "python",
   "pygments_lexer": "ipython3",
   "version": "3.8.6"
  }
 },
 "nbformat": 4,
 "nbformat_minor": 5
}
